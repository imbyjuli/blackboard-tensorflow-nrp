{
 "cells": [
  {
   "cell_type": "code",
   "execution_count": 5,
   "metadata": {},
   "outputs": [],
   "source": [
    "import numpy as np\n",
    "import tensorflow as tf\n",
    "import cv2\n",
    "import csv\n",
    "import random \n",
    "import scipy.misc\n",
    "%matplotlib inline\n",
    "from matplotlib.pyplot import imshow\n"
   ]
  },
  {
   "cell_type": "code",
   "execution_count": 6,
   "metadata": {},
   "outputs": [],
   "source": [
    "#TODO change the dir strings\n",
    "\n",
    "#source_dir should contain labels.csv as well as a \"train_dataset\" subfolder containing the images. \n",
    "source_dir = \"\"\n",
    "#create target_dir if necessary as well as a folder \"train_dataset\" in target_dir. Copy source_dir/labels.csv into target_dir\n",
    "target_dir = \"\" \n"
   ]
  },
  {
   "cell_type": "code",
   "execution_count": 10,
   "metadata": {},
   "outputs": [],
   "source": [
    "with open(source_dir + \"labels.csv\",'r') as csvfile:\n",
    "      reader = csv.reader(csvfile, delimiter=' ', quotechar='|')\n",
    "      csv_list =[','.join(row).split(',') for row in reader][1:]\n",
    "img_names = [row[0] for row in csv_list] "
   ]
  },
  {
   "cell_type": "code",
   "execution_count": 13,
   "metadata": {},
   "outputs": [],
   "source": [
    "\n",
    "#helper function for reading in images\n",
    "#input: list in img names \n",
    "#output: list with np.arrays of images \n",
    "def preprocessing_images(img_names): \n",
    "\n",
    "    path = source_dir\n",
    "    \n",
    "    \n",
    "  #transform images into trainable:\n",
    "  # (cutting from 240,320 to 240,240)  using[:,50:290]\n",
    "  # filtering out all \n",
    "\n",
    "       \n",
    "\n",
    "    def highpass_filter(image, threshold = 100): \n",
    "         #make sure both forms are working \n",
    "        #assert if input & background are same size\n",
    "        #only works for greyscale for now       \n",
    "        ri = image [:,50:290]\n",
    "        if threshold is 0: \n",
    "            return ri        \n",
    "        shp = ri.shape\n",
    "        \n",
    "        for i in range(shp[0]): \n",
    "            for j in range(shp[1]): \n",
    "                r,g,b = ri[i,j]\n",
    "                if r < threshold and g < threshold and b < threshold: \n",
    "                    ri[i,j] = np.array([0,0,0])\n",
    "        return ri\n",
    "    for name in img_names: \n",
    "        \n",
    "        img = cv2.imread(path + name)\n",
    "        print(\"processing: \"+name)\n",
    "        img_final = highpass_filter(img)# set to 0 \n",
    "        scipy.misc.imsave(target_dir+name, img_final)"
   ]
  },
  {
   "cell_type": "code",
   "execution_count": 12,
   "metadata": {},
   "outputs": [],
   "source": [
    "preprocessing_images(img_names)"
   ]
  }
 ],
 "metadata": {
  "kernelspec": {
   "display_name": "Python 2",
   "language": "python",
   "name": "python2"
  },
  "language_info": {
   "codemirror_mode": {
    "name": "ipython",
    "version": 2
   },
   "file_extension": ".py",
   "mimetype": "text/x-python",
   "name": "python",
   "nbconvert_exporter": "python",
   "pygments_lexer": "ipython2",
   "version": "2.7.12"
  }
 },
 "nbformat": 4,
 "nbformat_minor": 2
}
